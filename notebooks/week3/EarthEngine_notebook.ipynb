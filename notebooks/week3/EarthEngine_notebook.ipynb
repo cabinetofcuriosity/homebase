{
 "cells": [
  {
   "cell_type": "markdown",
   "metadata": {},
   "source": [
    "# Google Earth Engine"
   ]
  },
  {
   "cell_type": "markdown",
   "metadata": {},
   "source": [
    "Google Earth Engine hosts satellite imagery and other geospatial data and is a tool that allows for analysis of these datasets, which are made available for global-scale data mining. Images of Earth may go back more than 40 years and are ingested on a daily basis. Datasets include the USGS/NASA Landsat catalog, precipitation data, elevation data, and many more. Earth Engine also allows users to upload their own data for analysis. \n",
    "\n",
    "Earth Engine has been used in many interesting case studies, such as the [Map of Life](http://species.mol.org/species/map/Perdix_dauurica), as well as analysis of [global forest cover change](http://species.mol.org/species/map/Perdix_dauurica)."
   ]
  },
  {
   "cell_type": "markdown",
   "metadata": {},
   "source": [
    "# Become an Earth Engine developer\n"
   ]
  },
  {
   "cell_type": "markdown",
   "metadata": {},
   "source": [
    "In order to access and utilize Earth Engine's datasets, you must first [sign up](https://signup.earthengine.google.com/#!/) for access. However, some datasets can also be accessed directly from the \"Dataset Source\" link that is listed. "
   ]
  },
  {
   "cell_type": "markdown",
   "metadata": {},
   "source": [
    "# Install Earth Engine Python API "
   ]
  },
  {
   "cell_type": "markdown",
   "metadata": {},
   "source": [
    "Although Earth Engine is more JavaScript-friendly, I decided to install the Python API by following [this tutorial](https://github.com/earthlab/tutorials/blob/master/documentation/intro-google-earth-engine-python-api.md), written by Max Joseph of Earth Lab at the University of Colorado. "
   ]
  },
  {
   "cell_type": "markdown",
   "metadata": {},
   "source": [
    "# Downloading data "
   ]
  },
  {
   "cell_type": "markdown",
   "metadata": {},
   "source": [
    "Browse the [Data Catalog](https://developers.google.com/earth-engine/datasets/catalog/) to find a dataset that interests you. I picked a dataset that contains data about fires. Notice the name of the dataset listed in the \"Dataset Provider\" section. You will refer to that name in your command line whenever you want to retrieve data from it. \n",
    "<img src=\"source_example.png\"> "
   ]
  },
  {
   "cell_type": "markdown",
   "metadata": {},
   "source": [
    "First, to ensure you have access to the dataset, run the following line: \n",
    "```python \n",
    "earthengine authenticate\n",
    "   ```\n",
    "This will open up a browser window. Log in with the Google account that you used to sign up for Earth Engine. You will then be given an authentication code to copy and paste into your terminal. Next, run the following lines to prepare to use earthengine (documentation for the ee library can be found [here](https://developers.google.com/earth-engine/api_docs)):\n",
    "```python\n",
    "import ee\n",
    "ee.Initialize()\n",
    "```"
   ]
  },
  {
   "cell_type": "markdown",
   "metadata": {},
   "source": [
    "### Loading data to Google Drive"
   ]
  },
  {
   "cell_type": "markdown",
   "metadata": {},
   "source": [
    "One cool thing about Earth Engine is that you can actually export data to your Google Drive! First, let's load the features of the data. Remember, I am using the name of the dataset that is provided under the \"Earth Engine Snippet\". In this case, the name is \"FIRMS.\" \n",
    "```python \n",
    "features=ee.FeatureCollection(\"FIRMS\")\n",
    "```"
   ]
  },
  {
   "cell_type": "markdown",
   "metadata": {},
   "source": [
    "Next, let's give the computer a task: export this table as a CSV and place it in an existing Google Drive folder called \"Earth Engine data\".\n",
    "```python \n",
    "download_task=ee.batch.Export.table.toDrive(collection=features, folder='Earth Engine data', description='FIRMS dataset', fileFormat='CSV')\n",
    "```\n",
    "\n"
   ]
  },
  {
   "cell_type": "markdown",
   "metadata": {},
   "source": [
    "We will then tell the computer to run this task:\n",
    "```python \n",
    "ee.batch.data.startProcessing(download_task.id,download_task.config)\n",
    "```\n",
    "If all goes well, the terminal will show: \n",
    "```python \n",
    "{'started': 'OK'}\n",
    "```\n",
    "The CSV file should now exist in the \"Earth Engine data\" folder in our Google Drive!   "
   ]
  }
 ],
 "metadata": {
  "kernelspec": {
   "display_name": "Python 3",
   "language": "python",
   "name": "python3"
  },
  "language_info": {
   "codemirror_mode": {
    "name": "ipython",
    "version": 3
   },
   "file_extension": ".py",
   "mimetype": "text/x-python",
   "name": "python",
   "nbconvert_exporter": "python",
   "pygments_lexer": "ipython3",
   "version": "3.6.2"
  }
 },
 "nbformat": 4,
 "nbformat_minor": 2
}
