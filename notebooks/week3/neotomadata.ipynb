{
 "cells": [
  {
   "cell_type": "markdown",
   "metadata": {},
   "source": [
    "install the neotoma package first"
   ]
  },
  {
   "cell_type": "code",
   "execution_count": null,
   "metadata": {},
   "outputs": [],
   "source": [
    "install.packages('neotoma')"
   ]
  },
  {
   "cell_type": "code",
   "execution_count": 33,
   "metadata": {},
   "outputs": [],
   "source": [
    "library('neotoma')"
   ]
  },
  {
   "cell_type": "markdown",
   "metadata": {},
   "source": [
    "Using the dataset ID, return all records associated with the data. At present, only returns the dataset\n",
    "in an unparsed format, not as a data table. This function will only download one dataset at a time.In this example we\n",
    "use the id 899."
   ]
  },
  {
   "cell_type": "code",
   "execution_count": 55,
   "metadata": {},
   "outputs": [
    {
     "name": "stdout",
     "output_type": "stream",
     "text": [
      "API call was successful. Returned chronology.\n"
     ]
    }
   ],
   "source": [
    "example <- get_chroncontrol(899, chronology = 1)"
   ]
  },
  {
   "cell_type": "code",
   "execution_count": 56,
   "metadata": {},
   "outputs": [
    {
     "data": {
      "text/plain": [
       "NAPD 1: Default model, constructed using linear interpolation.\n",
       "Model age span: -10 to 1090\n",
       "Model age units: Radiocarbon years BP\n",
       "\n",
       "  depth thickness age age.young age.old             control.type\n",
       "1     0        NA -15       -15       0 Core top                \n",
       "2    15        10  80        40     120 Biostratigraphic, pollen\n",
       "  chron.control.id\n",
       "1             5143\n",
       "2             5144\n",
       "\n",
       "Accessed 2018-10-05 20:42h. \n",
       "NULL"
      ]
     },
     "metadata": {},
     "output_type": "display_data"
    }
   ],
   "source": [
    "example"
   ]
  },
  {
   "cell_type": "code",
   "execution_count": 60,
   "metadata": {},
   "outputs": [],
   "source": [
    "write.csv(example, \"exampleneotoma.csv\")"
   ]
  },
  {
   "cell_type": "code",
   "execution_count": 61,
   "metadata": {},
   "outputs": [
    {
     "data": {
      "text/html": [
       "<table>\n",
       "<thead><tr><th scope=col>X</th><th scope=col>chron.control.depth</th><th scope=col>chron.control.thickness</th><th scope=col>chron.control.age</th><th scope=col>chron.control.age.young</th><th scope=col>chron.control.age.old</th><th scope=col>chron.control.control.type</th><th scope=col>chron.control.chron.control.id</th><th scope=col>meta.default</th><th scope=col>meta.name</th><th scope=col>meta.age.type</th><th scope=col>meta.age.model</th><th scope=col>meta.age.older</th><th scope=col>meta.age.younger</th><th scope=col>meta.chron.id</th><th scope=col>meta.date</th><th scope=col>access.date</th><th scope=col>parent.dataset.name</th><th scope=col>parent.dataset.id</th><th scope=col>parent.dataset.type</th></tr></thead>\n",
       "<tbody>\n",
       "\t<tr><td>1                       </td><td> 0                      </td><td>NA                      </td><td>-15                     </td><td>-15                     </td><td>  0                     </td><td>Core top                </td><td>5143                    </td><td>FALSE                   </td><td>NAPD 1                  </td><td>Radiocarbon years BP    </td><td>linear interpolation    </td><td>1090                    </td><td>-10                     </td><td>899                     </td><td>1994-04-28T00:00:00     </td><td>2018-10-05 20:42:17     </td><td>NA                      </td><td>NA                      </td><td>NA                      </td></tr>\n",
       "\t<tr><td>2                       </td><td>15                      </td><td>10                      </td><td> 80                     </td><td> 40                     </td><td>120                     </td><td>Biostratigraphic, pollen</td><td>5144                    </td><td>FALSE                   </td><td>NAPD 1                  </td><td>Radiocarbon years BP    </td><td>linear interpolation    </td><td>1090                    </td><td>-10                     </td><td>899                     </td><td>1994-04-28T00:00:00     </td><td>2018-10-05 20:42:17     </td><td>NA                      </td><td>NA                      </td><td>NA                      </td></tr>\n",
       "</tbody>\n",
       "</table>\n"
      ],
      "text/latex": [
       "\\begin{tabular}{r|llllllllllllllllllll}\n",
       " X & chron.control.depth & chron.control.thickness & chron.control.age & chron.control.age.young & chron.control.age.old & chron.control.control.type & chron.control.chron.control.id & meta.default & meta.name & meta.age.type & meta.age.model & meta.age.older & meta.age.younger & meta.chron.id & meta.date & access.date & parent.dataset.name & parent.dataset.id & parent.dataset.type\\\\\n",
       "\\hline\n",
       "\t 1                        &  0                       & NA                       & -15                      & -15                      &   0                      & Core top                 & 5143                     & FALSE                    & NAPD 1                   & Radiocarbon years BP     & linear interpolation     & 1090                     & -10                      & 899                      & 1994-04-28T00:00:00      & 2018-10-05 20:42:17      & NA                       & NA                       & NA                      \\\\\n",
       "\t 2                        & 15                       & 10                       &  80                      &  40                      & 120                      & Biostratigraphic, pollen & 5144                     & FALSE                    & NAPD 1                   & Radiocarbon years BP     & linear interpolation     & 1090                     & -10                      & 899                      & 1994-04-28T00:00:00      & 2018-10-05 20:42:17      & NA                       & NA                       & NA                      \\\\\n",
       "\\end{tabular}\n"
      ],
      "text/markdown": [
       "\n",
       "X | chron.control.depth | chron.control.thickness | chron.control.age | chron.control.age.young | chron.control.age.old | chron.control.control.type | chron.control.chron.control.id | meta.default | meta.name | meta.age.type | meta.age.model | meta.age.older | meta.age.younger | meta.chron.id | meta.date | access.date | parent.dataset.name | parent.dataset.id | parent.dataset.type | \n",
       "|---|---|\n",
       "| 1                        |  0                       | NA                       | -15                      | -15                      |   0                      | Core top                 | 5143                     | FALSE                    | NAPD 1                   | Radiocarbon years BP     | linear interpolation     | 1090                     | -10                      | 899                      | 1994-04-28T00:00:00      | 2018-10-05 20:42:17      | NA                       | NA                       | NA                       | \n",
       "| 2                        | 15                       | 10                       |  80                      |  40                      | 120                      | Biostratigraphic, pollen | 5144                     | FALSE                    | NAPD 1                   | Radiocarbon years BP     | linear interpolation     | 1090                     | -10                      | 899                      | 1994-04-28T00:00:00      | 2018-10-05 20:42:17      | NA                       | NA                       | NA                       | \n",
       "\n",
       "\n"
      ],
      "text/plain": [
       "  X chron.control.depth chron.control.thickness chron.control.age\n",
       "1 1  0                  NA                      -15              \n",
       "2 2 15                  10                       80              \n",
       "  chron.control.age.young chron.control.age.old chron.control.control.type\n",
       "1 -15                       0                   Core top                  \n",
       "2  40                     120                   Biostratigraphic, pollen  \n",
       "  chron.control.chron.control.id meta.default meta.name meta.age.type       \n",
       "1 5143                           FALSE        NAPD 1    Radiocarbon years BP\n",
       "2 5144                           FALSE        NAPD 1    Radiocarbon years BP\n",
       "  meta.age.model       meta.age.older meta.age.younger meta.chron.id\n",
       "1 linear interpolation 1090           -10              899          \n",
       "2 linear interpolation 1090           -10              899          \n",
       "  meta.date           access.date         parent.dataset.name parent.dataset.id\n",
       "1 1994-04-28T00:00:00 2018-10-05 20:42:17 NA                  NA               \n",
       "2 1994-04-28T00:00:00 2018-10-05 20:42:17 NA                  NA               \n",
       "  parent.dataset.type\n",
       "1 NA                 \n",
       "2 NA                 "
      ]
     },
     "metadata": {},
     "output_type": "display_data"
    }
   ],
   "source": [
    "read.csv(\"exampleneotoma.csv\")"
   ]
  },
  {
   "cell_type": "code",
   "execution_count": null,
   "metadata": {},
   "outputs": [],
   "source": []
  }
 ],
 "metadata": {
  "kernelspec": {
   "display_name": "R",
   "language": "R",
   "name": "ir"
  },
  "language_info": {
   "codemirror_mode": "r",
   "file_extension": ".r",
   "mimetype": "text/x-r-source",
   "name": "R",
   "pygments_lexer": "r",
   "version": "3.4.1"
  }
 },
 "nbformat": 4,
 "nbformat_minor": 2
}
