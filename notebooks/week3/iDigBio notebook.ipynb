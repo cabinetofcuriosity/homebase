{
 "cells": [
  {
   "cell_type": "markdown",
   "metadata": {},
   "source": [
    "# iDigBio"
   ]
  },
  {
   "cell_type": "markdown",
   "metadata": {},
   "source": [
    "iDigBio is a National Resource funded as a part of the NSF's Advancing the Digitization of Biodiversity Collections program. The goal of the project is to enhance and expand the availability of biological data through digitization. iDigBio is hosted by the University of Florida (UF) and Florida State University (FSU). iDigBio hosts a collection of digital biological data including the names of species, localities and dates of collection, digital photographs, sound, video, and 3-D models created from a variety of sources. "
   ]
  },
  {
   "cell_type": "markdown",
   "metadata": {},
   "source": [
    "# Accessing iDigBio"
   ]
  },
  {
   "cell_type": "markdown",
   "metadata": {},
   "source": [
    "Accessing iDigBio services and data does not require signing up for an account, but an account which can be made [here](https://www.idigbio.org/login/accounts/new) is required to edit the iDigBio wiki and for registering for iDigBio events.  "
   ]
  },
  {
   "cell_type": "markdown",
   "metadata": {},
   "source": [
    "# How to obtain Data"
   ]
  },
  {
   "cell_type": "markdown",
   "metadata": {},
   "source": [
    "The [search portal](https://www.idigbio.org/portal/search) is the simplest and most beginner friendly way to access the data. To search for specific datasets, a search criteria can be inputed into the search field. The search query can be narrowed down by various criteria including scientific name, geographical location, and when the data was collected. No programming skills are needed to access the data. \n"
   ]
  },
  {
   "attachments": {},
   "cell_type": "markdown",
   "metadata": {},
   "source": [
    "Lets say I am interested in the data about Drosophila, commonly known as the fruit fly. To access data about arthropods, I can input \"Drosophila\" into the search field. \n",
    "\n",
    "![image](\"../notebooks/week3/iDigBio_images/tutorialimg1.jpg\")"
   ]
  },
  {
   "attachments": {},
   "cell_type": "markdown",
   "metadata": {},
   "source": [
    "I can narrow down my results by adding a search filter. Lets search for records of organisms in the United Sates  \n",
    "![image](\"../notebooks/week3/iDigBio_images/tutorialimg2.jpg\")"
   ]
  },
  {
   "attachments": {},
   "cell_type": "markdown",
   "metadata": {},
   "source": [
    "Now my search results only contain records about fruit flys in the United States. To obtain the data, we can click on the download tab and enter our email into the email field. The database will compile the records into a zip folder and we can obtain the folder by using the download link provided on the search page or the download link that is sent to the email designated. \n",
    "\n",
    "![image](\"../notebooks/week3/iDigBio_images/tutorialimg3.jpg\")"
   ]
  },
  {
   "attachments": {},
   "cell_type": "markdown",
   "metadata": {},
   "source": [
    "![image](\"../notebooks/week3/iDigBio_images/tutorialimg4.jpg\")"
   ]
  },
  {
   "attachments": {},
   "cell_type": "markdown",
   "metadata": {},
   "source": [
    "After clicking the download button, a zip folder containing the CSV file with the records should be downloaded and you now have the records! The data should be located in the occurrence file. \n",
    "![image](\"../notebooks/week3/iDigBio_images/tutorialimg5.jpg\")"
   ]
  },
  {
   "cell_type": "code",
   "execution_count": null,
   "metadata": {
    "collapsed": true
   },
   "outputs": [],
   "source": []
  }
 ],
 "metadata": {
  "kernelspec": {
   "display_name": "Python 3",
   "language": "python",
   "name": "python3"
  },
  "language_info": {
   "codemirror_mode": {
    "name": "ipython",
    "version": 3
   },
   "file_extension": ".py",
   "mimetype": "text/x-python",
   "name": "python",
   "nbconvert_exporter": "python",
   "pygments_lexer": "ipython3",
   "version": "3.6.2"
  }
 },
 "nbformat": 4,
 "nbformat_minor": 2
}
